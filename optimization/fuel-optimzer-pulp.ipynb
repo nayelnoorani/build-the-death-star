{
 "cells": [
  {
   "cell_type": "code",
   "execution_count": 7,
   "metadata": {},
   "outputs": [],
   "source": [
    "import pulp"
   ]
  },
  {
   "cell_type": "code",
   "execution_count": 8,
   "metadata": {},
   "outputs": [],
   "source": [
    "FUEL_TANK_CAPACITY = 12000\n",
    "MAX_FUEL_PURCHASE = 10000\n",
    "FUEL_SAFETY_MARGIN = 600\n",
    "CITIES = ['Los Angeles', 'Houston', 'New York', 'Miami']\n",
    "outbound_segment_distance = [1500, 1700, 1300, 2700]\n",
    "local_fuel_price = [0.88, 0.15, 1.05, 0.95]"
   ]
  },
  {
   "cell_type": "code",
   "execution_count": 9,
   "metadata": {},
   "outputs": [],
   "source": [
    "prob = pulp.LpProblem(\"Airplane_Fuel_Optimization\", pulp.constants.LpMinimize)"
   ]
  },
  {
   "cell_type": "code",
   "execution_count": 11,
   "metadata": {},
   "outputs": [],
   "source": [
    "# Set up the decision variables\n",
    "# Amount of fuel purchased at each city\n",
    "fuel_purchased = pulp.LpVariable.dicts(\"Fuel_Purchased\", \n",
    "                                     CITIES,\n",
    "                                     lowBound=0,\n",
    "                                     upBound=MAX_FUEL_PURCHASE)\n",
    "\n",
    "# Fuel level at landing at each city\n",
    "fuel_at_landing = pulp.LpVariable.dicts(\"Fuel_At_Landing\",\n",
    "                                       CITIES,\n",
    "                                       lowBound=FUEL_SAFETY_MARGIN,\n",
    "                                       upBound=FUEL_TANK_CAPACITY)\n",
    "\n",
    "# Fuel level at takeoff from each city\n",
    "fuel_at_takeoff = pulp.LpVariable.dicts(\"Fuel_At_Takeoff\",\n",
    "                                       CITIES,\n",
    "                                       lowBound=0,\n",
    "                                       upBound=FUEL_TANK_CAPACITY)"
   ]
  },
  {
   "cell_type": "code",
   "execution_count": 12,
   "metadata": {},
   "outputs": [],
   "source": [
    "# Constraints\n",
    "for city in CITIES:\n",
    "    # 1. Fuel at takeoff equals landing fuel plus purchased fuel\n",
    "    prob += fuel_at_takeoff[city] == fuel_at_landing[city] + fuel_purchased[city], \\\n",
    "            f\"Fuel_Balance_{city}\"\n",
    "    \n",
    "    # 2. Landing fuel must be at least safety margin\n",
    "    prob += fuel_at_landing[city] >= FUEL_SAFETY_MARGIN, \\\n",
    "            f\"Safety_Margin_{city}\"\n",
    "    \n",
    "    # 3. Purchased fuel must not exceed maximum purchase\n",
    "    prob += fuel_purchased[city] <= MAX_FUEL_PURCHASE, \\\n",
    "            f\"Max_Purchase_{city}\"\n",
    "    \n",
    "    # 4. Fuel at takeoff must not exceed tank capacity\n",
    "    prob += fuel_at_takeoff[city] <= FUEL_TANK_CAPACITY, \\\n",
    "            f\"Tank_Capacity_{city}\""
   ]
  },
  {
   "cell_type": "code",
   "execution_count": null,
   "metadata": {},
   "outputs": [
    {
     "name": "stdout",
     "output_type": "stream",
     "text": [
      "Testing city connections and distances:\n",
      "From Los Angeles  to Houston      - Distance: 1500 miles\n",
      "From Houston      to New York     - Distance: 1700 miles\n",
      "From New York     to Miami        - Distance: 1300 miles\n",
      "From Miami        to Los Angeles  - Distance: 2700 miles\n"
     ]
    }
   ],
   "source": [
    "# Fuel Consumption Constraints - Linearized\n",
    "for i in range(len(CITIES)):\n",
    "    from_city = CITIES[i]\n",
    "    to_city = CITIES[(i + 1) % len(CITIES)]  # Next city (wraps around)\n",
    "    distance = outbound_segment_distance[i]\n",
    "    \n",
    "    # (1 + (d/4000))*y = (1 - (d/4000))*z - d\n",
    "    # where y = landing fuel (to_city), z = takeoff fuel (from_city), d = distance (from_city)\n",
    "    \n",
    "    prob += ((1 + distance/4000) * fuel_at_landing[to_city] == \n",
    "             (1 - distance/4000) * fuel_at_takeoff[from_city] - distance), \\\n",
    "            f\"Fuel_Consumption_{from_city}_to_{to_city}\"\n",
    "    \n",
    "# Test city pairs and distances\n",
    "print(\"Testing city connections and distances:\")\n",
    "for i in range(len(CITIES)):\n",
    "    from_city = CITIES[i]\n",
    "    to_city = CITIES[(i + 1) % len(CITIES)]\n",
    "    distance = outbound_segment_distance[i]\n",
    "    \n",
    "    print(f\"From {from_city:12} to {to_city:12} - Distance: {distance:4} miles\")"
   ]
  },
  {
   "cell_type": "code",
   "execution_count": 14,
   "metadata": {},
   "outputs": [],
   "source": [
    "# Objective Function: Minimize total fuel cost\n",
    "prob += pulp.lpSum([fuel_purchased[city] * local_fuel_price[i] \n",
    "                    for i, city in enumerate(CITIES)]), \"Total_Fuel_Cost\""
   ]
  },
  {
   "cell_type": "code",
   "execution_count": 15,
   "metadata": {},
   "outputs": [
    {
     "name": "stdout",
     "output_type": "stream",
     "text": [
      "Welcome to the CBC MILP Solver \n",
      "Version: 2.10.3 \n",
      "Build Date: Dec 15 2019 \n",
      "\n",
      "command line - /opt/miniconda3/envs/build-the-death-star/lib/python3.12/site-packages/pulp/solverdir/cbc/osx/64/cbc /var/folders/ty/f5d3n0vj42jdwf7h9rrgs5gh0000gn/T/be80dc0582e34c69bc6c355519363270-pulp.mps -timeMode elapsed -branch -printingOptions all -solution /var/folders/ty/f5d3n0vj42jdwf7h9rrgs5gh0000gn/T/be80dc0582e34c69bc6c355519363270-pulp.sol (default strategy 1)\n",
      "At line 2 NAME          MODEL\n",
      "At line 3 ROWS\n",
      "At line 25 COLUMNS\n",
      "At line 62 RHS\n",
      "At line 83 BOUNDS\n",
      "At line 100 ENDATA\n",
      "Problem MODEL has 20 rows, 12 columns and 32 elements\n",
      "Coin0008I MODEL read with 0 errors\n",
      "Option for timeMode changed from cpu to elapsed\n",
      "Presolve 4 (-16) rows, 8 (-4) columns and 12 (-20) elements\n",
      "0  Obj 9773.0693 Primal inf 10078.158 (4)\n",
      "5  Obj 15414.957\n",
      "Optimal - objective value 15414.957\n",
      "After Postsolve, objective 15414.957, infeasibilities - dual 0 (0), primal 0 (0)\n",
      "Optimal objective 15414.95673 - 5 iterations time 0.002, Presolve 0.00\n",
      "Option for printingOptions changed from normal to all\n",
      "Total time (CPU seconds):       0.00   (Wallclock seconds):       0.01\n",
      "\n",
      "Status: Optimal\n",
      "Optimal Cost: $15,414.96\n",
      "\n",
      "Los Angeles:\n",
      "  Fuel Purchased: 3,120.0 gallons\n",
      "  Fuel at Takeoff: 3,720.0 gallons\n",
      "  Fuel at Landing: 600.0 gallons\n",
      "  Local Price: $0.88/gallon\n",
      "\n",
      "Houston:\n",
      "  Fuel Purchased: 10,000.0 gallons\n",
      "  Fuel at Takeoff: 10,600.0 gallons\n",
      "  Fuel at Landing: 600.0 gallons\n",
      "  Local Price: $0.15/gallon\n",
      "\n",
      "New York:\n",
      "  Fuel Purchased: 1,589.9 gallons\n",
      "  Fuel at Takeoff: 4,674.1 gallons\n",
      "  Fuel at Landing: 3,084.2 gallons\n",
      "  Local Price: $1.05/gallon\n",
      "\n",
      "Miami:\n",
      "  Fuel Purchased: 10,000.0 gallons\n",
      "  Fuel at Takeoff: 11,400.0 gallons\n",
      "  Fuel at Landing: 1,400.0 gallons\n",
      "  Local Price: $0.95/gallon\n"
     ]
    }
   ],
   "source": [
    "# Solve the optimization problem\n",
    "prob.solve()\n",
    "\n",
    "# Print status\n",
    "print(f\"Status: {pulp.LpStatus[prob.status]}\")\n",
    "print(f\"Optimal Cost: ${pulp.value(prob.objective):,.2f}\")\n",
    "\n",
    "# Print results for each city\n",
    "for i, city in enumerate(CITIES):\n",
    "    print(f\"\\n{city}:\")\n",
    "    print(f\"  Fuel Purchased: {fuel_purchased[city].value():,.1f} gallons\")\n",
    "    print(f\"  Fuel at Takeoff: {fuel_at_takeoff[city].value():,.1f} gallons\")\n",
    "    print(f\"  Fuel at Landing: {fuel_at_landing[city].value():,.1f} gallons\")\n",
    "    print(f\"  Local Price: ${local_fuel_price[i]:.2f}/gallon\")"
   ]
  },
  {
   "cell_type": "markdown",
   "metadata": {},
   "source": [
    "Looking at the simulation results above, my first instinct is to ask, \"Why not land in Miami with the minimum fuel and buy fuel 10c / gallon cheaper?\". Adding that constraint and running the model again to scratch that itch."
   ]
  },
  {
   "cell_type": "code",
   "execution_count": 16,
   "metadata": {},
   "outputs": [
    {
     "name": "stdout",
     "output_type": "stream",
     "text": [
      "Welcome to the CBC MILP Solver \n",
      "Version: 2.10.3 \n",
      "Build Date: Dec 15 2019 \n",
      "\n",
      "command line - /opt/miniconda3/envs/build-the-death-star/lib/python3.12/site-packages/pulp/solverdir/cbc/osx/64/cbc /var/folders/ty/f5d3n0vj42jdwf7h9rrgs5gh0000gn/T/b8c435308ed84e5dbe96a79e9317ea19-pulp.mps -timeMode elapsed -branch -printingOptions all -solution /var/folders/ty/f5d3n0vj42jdwf7h9rrgs5gh0000gn/T/b8c435308ed84e5dbe96a79e9317ea19-pulp.sol (default strategy 1)\n",
      "At line 2 NAME          MODEL\n",
      "At line 3 ROWS\n",
      "At line 26 COLUMNS\n",
      "At line 64 RHS\n",
      "At line 86 BOUNDS\n",
      "At line 103 ENDATA\n",
      "Problem MODEL has 21 rows, 12 columns and 33 elements\n",
      "Coin0008I MODEL read with 0 errors\n",
      "Option for timeMode changed from cpu to elapsed\n",
      "Presolve determined that the problem was infeasible with tolerance of 1e-08\n",
      "Analysis indicates model infeasible or unbounded\n",
      "0  Obj 0 Primal inf 14975.489 (8)\n",
      "9  Obj 15414.957 Primal inf 946.9303 (1)\n",
      "Primal infeasible - objective value 15414.957\n",
      "PrimalInfeasible objective 15414.95673 - 9 iterations time 0.002\n",
      "\n",
      "Result - Linear relaxation infeasible\n",
      "\n",
      "Enumerated nodes:           0\n",
      "Total iterations:           0\n",
      "Time (CPU seconds):         0.00\n",
      "Time (Wallclock Seconds):   0.01\n",
      "\n",
      "Option for printingOptions changed from normal to all\n",
      "Total time (CPU seconds):       0.00   (Wallclock seconds):       0.02\n",
      "\n",
      "Status: Infeasible\n",
      "Optimal Cost: $15,414.96\n",
      "\n",
      "Los Angeles:\n",
      "  Fuel Purchased: 3,120.0 gallons\n",
      "  Fuel at Takeoff: 3,720.0 gallons\n",
      "  Fuel at Landing: 600.0 gallons\n",
      "  Local Price: $0.88/gallon\n",
      "\n",
      "Houston:\n",
      "  Fuel Purchased: 10,000.0 gallons\n",
      "  Fuel at Takeoff: 10,600.0 gallons\n",
      "  Fuel at Landing: 600.0 gallons\n",
      "  Local Price: $0.15/gallon\n",
      "\n",
      "New York:\n",
      "  Fuel Purchased: 1,589.9 gallons\n",
      "  Fuel at Takeoff: 4,674.1 gallons\n",
      "  Fuel at Landing: 3,084.2 gallons\n",
      "  Local Price: $1.05/gallon\n",
      "\n",
      "Miami:\n",
      "  Fuel Purchased: 10,000.0 gallons\n",
      "  Fuel at Takeoff: 11,400.0 gallons\n",
      "  Fuel at Landing: 1,400.0 gallons\n",
      "  Local Price: $0.95/gallon\n"
     ]
    }
   ],
   "source": [
    "# Add constraint to fix landing fuel in Miami\n",
    "prob += fuel_at_landing['Miami'] == 600, \"Fix_Miami_Landing\"\n",
    "\n",
    "# Re-solve\n",
    "prob.solve()\n",
    "\n",
    "# Print status\n",
    "print(f\"Status: {pulp.LpStatus[prob.status]}\")\n",
    "print(f\"Optimal Cost: ${pulp.value(prob.objective):,.2f}\")\n",
    "\n",
    "# Print results for each city\n",
    "for i, city in enumerate(CITIES):\n",
    "    print(f\"\\n{city}:\")\n",
    "    print(f\"  Fuel Purchased: {fuel_purchased[city].value():,.1f} gallons\")\n",
    "    print(f\"  Fuel at Takeoff: {fuel_at_takeoff[city].value():,.1f} gallons\")\n",
    "    print(f\"  Fuel at Landing: {fuel_at_landing[city].value():,.1f} gallons\")\n",
    "    print(f\"  Local Price: ${local_fuel_price[i]:.2f}/gallon\")"
   ]
  },
  {
   "cell_type": "markdown",
   "metadata": {},
   "source": [
    "The current simulation is probably not able to make this solution work because of the circular nature of the constraints. However, in a situation where we can directly estimate fuel consumption for any given segment, I imagine the value could be calculated."
   ]
  }
 ],
 "metadata": {
  "kernelspec": {
   "display_name": "build-the-death-star",
   "language": "python",
   "name": "python3"
  },
  "language_info": {
   "codemirror_mode": {
    "name": "ipython",
    "version": 3
   },
   "file_extension": ".py",
   "mimetype": "text/x-python",
   "name": "python",
   "nbconvert_exporter": "python",
   "pygments_lexer": "ipython3",
   "version": "3.12.2"
  }
 },
 "nbformat": 4,
 "nbformat_minor": 2
}
